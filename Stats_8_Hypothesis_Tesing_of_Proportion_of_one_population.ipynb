{
  "nbformat": 4,
  "nbformat_minor": 0,
  "metadata": {
    "colab": {
      "name": "Stats 8 - Hypothesis Tesing of Proportion of one population.ipynb",
      "provenance": [],
      "collapsed_sections": [],
      "mount_file_id": "1gG0Wn2G2-poDhrdW9B0HutjzGDstXGsO",
      "authorship_tag": "ABX9TyNBQQ84Oq4n5/pEjfbdBRcm",
      "include_colab_link": true
    },
    "kernelspec": {
      "name": "python3",
      "display_name": "Python 3"
    },
    "language_info": {
      "name": "python"
    }
  },
  "cells": [
    {
      "cell_type": "markdown",
      "metadata": {
        "id": "view-in-github",
        "colab_type": "text"
      },
      "source": [
        "<a href=\"https://colab.research.google.com/github/mukeshsharma1981/Statistics/blob/main/Stats_8_Hypothesis_Tesing_of_Proportion_of_one_population.ipynb\" target=\"_parent\"><img src=\"https://colab.research.google.com/assets/colab-badge.svg\" alt=\"Open In Colab\"/></a>"
      ]
    },
    {
      "cell_type": "markdown",
      "source": [
        "**HT of proportion for one population**\n",
        "\n",
        "***In this type of HT, the parameter of interest is the ratio or proportion of the population denoted by p.***\n",
        "\n",
        "***We aim to infer p based on the sample information. In this case, the candidate value of the population proportion is p0 specified by the claim term. ***\n",
        "\n",
        "1. population proportion as p\n",
        "2. sample proportion as p̂\n",
        "3. sample size as n\n",
        "\n",
        "**Two Sided Hypothesis**\n",
        "1. Step 1: State the hypotheses **H0: p = p0**  **H1: p ≠ p0 **\n",
        "2. Step 2: Set significance level\n",
        "3. Step 3: Compute the test.value\n",
        "\n",
        "***p̂-p/sqrt(p0(1-p0)(1/n))***\n",
        "\n",
        "4. Step 4: Find the c.value\n",
        "\n",
        "**c.value = qnorm(1 – α/2)**\n",
        "\n",
        "5. Step 5: Specify the decision rule\n",
        "\n",
        "if |test.value| ≥ c.value therefore H0 is rejected\n",
        "\n",
        "6.Step 6: If the condition in step 5 is satisfied, then the candidate value is not acceptable as a point estimation of p at the significance level α. "
      ],
      "metadata": {
        "id": "YNhVeNEQB-4f"
      }
    },
    {
      "cell_type": "markdown",
      "source": [
        "**Upper one-sided HT of proportion for one  populations**\n",
        "\n",
        "Step1 to step3 will be same mentioned in **proportion for one population**\n",
        "\n",
        "4. Step 4: Find the c.value\n",
        "\n",
        "**c.value = qnorm(1-a)**\n",
        "\n",
        "5. Step 5: Specify the decision rule\n",
        "\n",
        "if test.value ≥ c.value therefore H0 is rejected\n",
        "\n",
        "6. Step 6: Make a decision and conclusion\n",
        "\n",
        "If the condition in step 5 is satisfied, then the population proportion is at least p0 at the significance level α. "
      ],
      "metadata": {
        "id": "CiccwqMNDipT"
      }
    },
    {
      "cell_type": "markdown",
      "source": [
        "**Lower one-sided HT  of variance for two populations**\n",
        "\n",
        "Step1 to step3 will be same mentioned in **variance for two population**\n",
        "\n",
        "4. Step 4: Find the c.value\n",
        "\n",
        "**c.value = qnorm(α)**\n",
        "\n",
        "5.Step 5: Specify the decision rule\n",
        "\n",
        "if test.value ≤ c.value therefore H0 is rejected\n",
        "\n",
        "6. Step 6: Make a decision and conclusion\n",
        "\n",
        "If the condition in step 5 is satisfied, then the population proportion is at most p0 at the significance level α. "
      ],
      "metadata": {
        "id": "OVulY-InD3QL"
      }
    },
    {
      "cell_type": "code",
      "source": [
        "%load_ext rpy2.ipython"
      ],
      "metadata": {
        "id": "SvLg3b81ChMn"
      },
      "execution_count": null,
      "outputs": []
    },
    {
      "cell_type": "code",
      "source": [
        "from google.colab import drive\n",
        "drive.mount('/content/drive')"
      ],
      "metadata": {
        "id": "HinF8l4fnhx1",
        "colab": {
          "base_uri": "https://localhost:8080/"
        },
        "outputId": "6ab2e5d1-6c58-4d91-a63c-a948a0e4c609"
      },
      "execution_count": null,
      "outputs": [
        {
          "output_type": "stream",
          "name": "stdout",
          "text": [
            "Mounted at /content/drive\n"
          ]
        }
      ]
    },
    {
      "cell_type": "markdown",
      "source": [
        "**Example**\n",
        "\n",
        "Use the mtcars dataset from the folder of working datasets on the Moodle page.\n",
        "\n",
        "Test whether the ratio of ones in vs variable is greater than 0.6 at the 1% level of significance. \n",
        "\n",
        "\n"
      ],
      "metadata": {
        "id": "VQ6YkFcmKorv"
      }
    },
    {
      "cell_type": "code",
      "source": [
        "%%R\n",
        "\n",
        "data=read.csv('/content/drive/MyDrive/Colab Notebooks/dataset/mtcars.csv')\n",
        "head(data)\n",
        "\n",
        "X=data$vs ; n=length(X)\n",
        "\n",
        "phat=sum(X)/n\n",
        "\n",
        "alpha=0.01\n",
        "\n",
        "p0=0.6\n",
        "\n",
        "\n",
        "test.value=(phat-p0)/sqrt(p0*(1-p0)*(1/n))\n",
        "\n",
        "c.value=qnorm(alpha)\n",
        "\n",
        "c(test.value, c.value)\n",
        "\n",
        "#since test.value is greater than c.value so we will accept H0 and will say that \n",
        "#the ratio of ones in vs variable is greater than 0.6 at the 1% level of significance.\n",
        "\n"
      ],
      "metadata": {
        "colab": {
          "base_uri": "https://localhost:8080/"
        },
        "id": "AUEmyI7iChSg",
        "outputId": "3142bfcb-f895-4c20-e780-16afd9bc2080"
      },
      "execution_count": null,
      "outputs": [
        {
          "output_type": "stream",
          "name": "stdout",
          "text": [
            "[1] -1.876388 -2.326348\n"
          ]
        }
      ]
    },
    {
      "cell_type": "code",
      "source": [
        ""
      ],
      "metadata": {
        "id": "hst6-_8hChaE"
      },
      "execution_count": null,
      "outputs": []
    },
    {
      "cell_type": "code",
      "source": [
        ""
      ],
      "metadata": {
        "id": "sfhDbf7WChcv"
      },
      "execution_count": null,
      "outputs": []
    },
    {
      "cell_type": "code",
      "source": [
        ""
      ],
      "metadata": {
        "id": "RBQonqqHChfj"
      },
      "execution_count": null,
      "outputs": []
    },
    {
      "cell_type": "code",
      "source": [
        ""
      ],
      "metadata": {
        "id": "e5zt0CYgChiL"
      },
      "execution_count": null,
      "outputs": []
    },
    {
      "cell_type": "code",
      "source": [
        ""
      ],
      "metadata": {
        "id": "TyYVXcdKChkx"
      },
      "execution_count": null,
      "outputs": []
    },
    {
      "cell_type": "code",
      "source": [
        ""
      ],
      "metadata": {
        "id": "qYYHvHddChnh"
      },
      "execution_count": null,
      "outputs": []
    },
    {
      "cell_type": "code",
      "source": [
        ""
      ],
      "metadata": {
        "id": "SE13TL4gChp_"
      },
      "execution_count": null,
      "outputs": []
    },
    {
      "cell_type": "code",
      "source": [
        ""
      ],
      "metadata": {
        "id": "j7kCRmu3Chsp"
      },
      "execution_count": null,
      "outputs": []
    }
  ]
}