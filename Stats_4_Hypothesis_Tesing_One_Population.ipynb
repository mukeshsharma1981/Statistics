{
  "nbformat": 4,
  "nbformat_minor": 0,
  "metadata": {
    "colab": {
      "name": "Stats 4 - Hypothesis Tesing One Population.ipynb",
      "provenance": [],
      "collapsed_sections": [],
      "authorship_tag": "ABX9TyPxDZU2r/OrIK3+a9kIgm70",
      "include_colab_link": true
    },
    "kernelspec": {
      "name": "python3",
      "display_name": "Python 3"
    },
    "language_info": {
      "name": "python"
    }
  },
  "cells": [
    {
      "cell_type": "markdown",
      "metadata": {
        "id": "view-in-github",
        "colab_type": "text"
      },
      "source": [
        "<a href=\"https://colab.research.google.com/github/mukeshsharma1981/Statistics/blob/main/Stats_4_Hypothesis_Tesing_One_Population.ipynb\" target=\"_parent\"><img src=\"https://colab.research.google.com/assets/colab-badge.svg\" alt=\"Open In Colab\"/></a>"
      ]
    },
    {
      "cell_type": "markdown",
      "source": [
        "**Test of mean for one population**\n",
        "\n",
        "1. population mean denoted by µ\n",
        "2. sample mean as X̄'\n",
        "3. sample variance as s2\n",
        "4. population variance as σ2 (sigma square)\n",
        "5. sample size as n\n",
        "\n",
        "**Two Sided Hypothesis**\n",
        "1. Step 1: State the hypotheses\n",
        "2. Step 2: Set significance level\n",
        "3. Step 3: Compute the test.value\n",
        "\n",
        "(xbar-mu0)/squart((sigma) squaroot/n)\n",
        "\n",
        "4. Step 4: Find the c.value\n",
        "c.value = qnorm(1 - α/2)\n",
        "\n",
        "5. Step 5: Specify the decision rule\n",
        "if |test.value|≥ c.value therefore H0 is rejected\n",
        "\n",
        "6.Step 6: Make a decision and conclusion - If the condition in step 5 is satisfied, then the candidate value µ0 is not acceptable as a point estimation of µ."
      ],
      "metadata": {
        "id": "YNhVeNEQB-4f"
      }
    },
    {
      "cell_type": "markdown",
      "source": [
        "**Upper one-sided HT of mean**\n",
        "\n",
        "Step1 to step3 will be same mentioned in **Two sided Hypothesis Testing**\n",
        "\n",
        "4. Step 4: Find the c.value\n",
        "\n",
        "**c.value = qnorm(1- α)**\n",
        "\n",
        "5. Step 5: Specify the decision rule\n",
        "\n",
        "if test.value ≥ c.value therefore H0 is rejected\n",
        "\n",
        "6. Step 6: Make a decision and conclusion\n",
        "\n",
        "If the condition in step 5 is satisfied, the candidate value is at least equal to µ0."
      ],
      "metadata": {
        "id": "CiccwqMNDipT"
      }
    },
    {
      "cell_type": "markdown",
      "source": [
        "**Lower one-sided HT of mean**\n",
        "\n",
        "Step1 to step3 will be same mentioned in **Two sided Hypothesis Testing**\n",
        "\n",
        "4. Step 4: Find the c.value\n",
        "\n",
        "**c.value = qnorm(α)**\n",
        "\n",
        "5.Step 5: Specify the decision rule\n",
        "\n",
        "if test.value ≤ c.value therefore H0 is rejected\n",
        "\n",
        "6. Step 6: Make a decision and conclusion\n",
        "\n",
        "If the condition in step 5 is satisfied, then the population mean is at most equal to µ0."
      ],
      "metadata": {
        "id": "OVulY-InD3QL"
      }
    },
    {
      "cell_type": "markdown",
      "source": [
        "**Example **\n",
        "\n",
        "Suppose the company claims that the mean lifetime of the product is more than 7,000 hours. \n",
        "\n",
        "In a sample of 30 items, it was found that they only last 6,500 hours on average. Assume the population standard deviation is 90 hours. \n",
        "\n",
        "At .05 significance level, can we reject the claim by the company?"
      ],
      "metadata": {
        "id": "9YyesefAEZqh"
      }
    },
    {
      "cell_type": "code",
      "source": [
        "%load_ext rpy2.ipython"
      ],
      "metadata": {
        "colab": {
          "base_uri": "https://localhost:8080/"
        },
        "id": "SvLg3b81ChMn",
        "outputId": "658126ab-1f9a-496b-b7ac-819f7520da4b"
      },
      "execution_count": null,
      "outputs": [
        {
          "output_type": "stream",
          "name": "stdout",
          "text": [
            "The rpy2.ipython extension is already loaded. To reload it, use:\n",
            "  %reload_ext rpy2.ipython\n"
          ]
        }
      ]
    },
    {
      "cell_type": "code",
      "source": [
        "\n",
        "%%R\n",
        "#s1 - H0: mu>7000 H1: mu<=7000\n",
        "mu=7000\n",
        "\n",
        "#s2 - set alpha\n",
        "alpha=0.05\n",
        "\n",
        "#s3 - compute test.value\n",
        "xbar=6500; n=30; sigma=90\n",
        "test.value = (xbar-mu)/(sigma/sqrt(n))\n",
        "\n",
        "#s4 - compute c.value\n",
        "c.value = qnorm(alpha)\n",
        "\n",
        "#s5 - Decision Rule - if test.value ≤ c.value therefore H0 is rejected\n",
        "\n",
        "c(test.value, c.value)\n",
        "\n",
        "#s6 here if test.value ≤ c.value therefore H0 is rejected which means lifetime of a product is less than 7000"
      ],
      "metadata": {
        "colab": {
          "base_uri": "https://localhost:8080/"
        },
        "id": "_mt1Y9uFChPt",
        "outputId": "791b5a0e-00bc-408f-e591-778b4ed0454e"
      },
      "execution_count": null,
      "outputs": [
        {
          "output_type": "stream",
          "name": "stdout",
          "text": [
            "[1] -30.429031  -1.644854\n"
          ]
        }
      ]
    },
    {
      "cell_type": "markdown",
      "source": [
        "**Example**\n",
        "\n",
        "Suppose the company claims that the mean lifetime  of an item is more than 5,000 hours. In a sample of  30 items, it was found that they only last 4,900  hours on average. Assume the population standard  deviation is 60 hours. At .05 significance level, can we reject the claim by the company?\n"
      ],
      "metadata": {
        "id": "VQ6YkFcmKorv"
      }
    },
    {
      "cell_type": "code",
      "source": [
        "%%R\n",
        "#s1 - H0: mu>5000 H1: mu<=5000\n",
        "mu=5000\n",
        "\n",
        "#s2 - set alpha\n",
        "alpha=0.05\n",
        "\n",
        "#s3 - compute test.value\n",
        "xbar=4900; n=30; sigma=60\n",
        "test.value = (xbar-mu)/(sigma/sqrt(n))\n",
        "\n",
        "#s4 - compute c.value\n",
        "c.value = qnorm(alpha)\n",
        "\n",
        "#s5 - Decision Rule - if test.value ≤ c.value therefore H0 is rejected\n",
        "\n",
        "c(test.value, c.value)\n",
        "\n",
        "#s6 here if test.value ≤ c.value therefore H0 is rejected which means lifetime of a product is less than 5000"
      ],
      "metadata": {
        "colab": {
          "base_uri": "https://localhost:8080/"
        },
        "id": "AUEmyI7iChSg",
        "outputId": "5bbaf64c-929f-4218-f48b-9fa65c6339c9"
      },
      "execution_count": null,
      "outputs": [
        {
          "output_type": "stream",
          "name": "stdout",
          "text": [
            "[1] -9.128709 -1.644854\n"
          ]
        }
      ]
    },
    {
      "cell_type": "markdown",
      "source": [
        "**Example**\n",
        "\n",
        "Suppose the mean weight of King seagull found in an  Atlantic ocean area last year was 7.4 kg. In a sample of 35  seagull same time this year in the same area, the  mean seagull weight is 7.6 kg. Assume the population  standard deviation is 2.4 kg. At .05 significance level,  can we reject the null hypothesis that the mean seagull weight does not differ from last year?\n"
      ],
      "metadata": {
        "id": "1P4ZTtVcMvAY"
      }
    },
    {
      "cell_type": "code",
      "source": [
        "%%R\n",
        "#s1 - H0: mu=7.4 H1: mu!=7.4\n",
        "mu=7.4\n",
        "\n",
        "#s2 - set alpha\n",
        "alpha=0.05\n",
        "\n",
        "#s3 - compute test.value\n",
        "xbar=7.6; n=35; sigma=2.4\n",
        "test.value = (xbar-mu)/(sigma/sqrt(n))\n",
        "\n",
        "#s4 - compute c.value\n",
        "c.value = qnorm(1-alpha/2)\n",
        "\n",
        "#s5 - Decision Rule - if test.value ≥ c.value therefore H0 is rejected\n",
        "\n",
        "c(test.value, c.value)\n",
        "\n",
        "#s6 here if test.value < c.value therefore H0 will be accepted which means  King seagull found in an Atlantic ocean area last year was 7.4 kg"
      ],
      "metadata": {
        "colab": {
          "base_uri": "https://localhost:8080/"
        },
        "id": "UEI_0FtxChU3",
        "outputId": "54ff5da1-f6d5-447c-e44c-6aabc49735e5"
      },
      "execution_count": null,
      "outputs": [
        {
          "output_type": "stream",
          "name": "stdout",
          "text": [
            "[1] 0.4930066 1.9599640\n"
          ]
        }
      ]
    },
    {
      "cell_type": "code",
      "source": [
        ""
      ],
      "metadata": {
        "id": "DkdkRD7gChXf"
      },
      "execution_count": null,
      "outputs": []
    },
    {
      "cell_type": "code",
      "source": [
        ""
      ],
      "metadata": {
        "id": "hst6-_8hChaE"
      },
      "execution_count": null,
      "outputs": []
    },
    {
      "cell_type": "code",
      "source": [
        ""
      ],
      "metadata": {
        "id": "sfhDbf7WChcv"
      },
      "execution_count": null,
      "outputs": []
    },
    {
      "cell_type": "code",
      "source": [
        ""
      ],
      "metadata": {
        "id": "RBQonqqHChfj"
      },
      "execution_count": null,
      "outputs": []
    },
    {
      "cell_type": "code",
      "source": [
        ""
      ],
      "metadata": {
        "id": "e5zt0CYgChiL"
      },
      "execution_count": null,
      "outputs": []
    },
    {
      "cell_type": "code",
      "source": [
        ""
      ],
      "metadata": {
        "id": "TyYVXcdKChkx"
      },
      "execution_count": null,
      "outputs": []
    },
    {
      "cell_type": "code",
      "source": [
        ""
      ],
      "metadata": {
        "id": "qYYHvHddChnh"
      },
      "execution_count": null,
      "outputs": []
    },
    {
      "cell_type": "code",
      "source": [
        ""
      ],
      "metadata": {
        "id": "SE13TL4gChp_"
      },
      "execution_count": null,
      "outputs": []
    },
    {
      "cell_type": "code",
      "source": [
        ""
      ],
      "metadata": {
        "id": "j7kCRmu3Chsp"
      },
      "execution_count": null,
      "outputs": []
    }
  ]
}