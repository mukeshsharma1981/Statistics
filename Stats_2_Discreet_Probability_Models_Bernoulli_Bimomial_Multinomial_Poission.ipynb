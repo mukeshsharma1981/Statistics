{
  "nbformat": 4,
  "nbformat_minor": 0,
  "metadata": {
    "colab": {
      "name": "Stats-2 Discreet Probability Models Bernoulli_Bimomial_Multinomial_Poission.ipynb",
      "provenance": [],
      "collapsed_sections": [],
      "authorship_tag": "ABX9TyNNO8ovT6v+YN5ZixdYM/m5",
      "include_colab_link": true
    },
    "kernelspec": {
      "name": "python3",
      "display_name": "Python 3"
    },
    "language_info": {
      "name": "python"
    }
  },
  "cells": [
    {
      "cell_type": "markdown",
      "metadata": {
        "id": "view-in-github",
        "colab_type": "text"
      },
      "source": [
        "<a href=\"https://colab.research.google.com/github/mukeshsharma1981/Statistics/blob/main/Stats_2_Discreet_Probability_Models_Bernoulli_Bimomial_Multinomial_Poission.ipynb\" target=\"_parent\"><img src=\"https://colab.research.google.com/assets/colab-badge.svg\" alt=\"Open In Colab\"/></a>"
      ]
    },
    {
      "cell_type": "code",
      "execution_count": 1,
      "metadata": {
        "id": "o6pF9q8DCPGt"
      },
      "outputs": [],
      "source": [
        "%load_ext rpy2.ipython"
      ]
    },
    {
      "cell_type": "markdown",
      "source": [
        "# Discreet Probability Model - Bernoulli\n",
        "\n",
        "1. Data Simulation - rbinom(s,1,p)\n",
        "*  s=sample size\n",
        "*  p=probability of getting one\n",
        "\n",
        "\n",
        "2. Probability Mass Function (**pmf**) - dbinom(j,1,p)\n",
        "*  j=is the possible outcome\n",
        "*  p=probability of getting one\n",
        "\n",
        "2. Cumulative Distribution Function (**cdf**) - pbinom(j,1,p)\n",
        "*  j=is the value of random variable \n",
        "*  p=probability of getting one\n",
        "\n"
      ],
      "metadata": {
        "id": "QxbwGh4ICpXz"
      }
    },
    {
      "cell_type": "markdown",
      "source": [
        ""
      ],
      "metadata": {
        "id": "IPQTHZpxDs3N"
      }
    },
    {
      "cell_type": "markdown",
      "source": [
        "###Example \n",
        "Let random variable X be distributed with Bernoulli model Be(p=0.3). \n",
        "\n",
        "a) Simulate 100 samples from the above model\n",
        "\n",
        "b) Find P(X=0)"
      ],
      "metadata": {
        "id": "MS5_gkb0Ds8Q"
      }
    },
    {
      "cell_type": "code",
      "source": [
        "%%R\n",
        "s=100;p=0.3;j=0\n",
        "\n",
        "## a\n",
        "ds=rbinom(s,1,p)\n",
        "print(c('Data Simulation', ds))\n"
      ],
      "metadata": {
        "colab": {
          "base_uri": "https://localhost:8080/"
        },
        "id": "t6spwSEiCR7t",
        "outputId": "0aef529c-23d6-41f4-ac37-643e84f68d95"
      },
      "execution_count": 7,
      "outputs": [
        {
          "output_type": "stream",
          "name": "stdout",
          "text": [
            "  [1] \"Data Simulation\" \"0\"               \"0\"               \"0\"              \n",
            "  [5] \"1\"               \"1\"               \"1\"               \"1\"              \n",
            "  [9] \"0\"               \"0\"               \"0\"               \"1\"              \n",
            " [13] \"0\"               \"0\"               \"0\"               \"1\"              \n",
            " [17] \"0\"               \"0\"               \"0\"               \"0\"              \n",
            " [21] \"1\"               \"0\"               \"0\"               \"0\"              \n",
            " [25] \"0\"               \"0\"               \"1\"               \"0\"              \n",
            " [29] \"0\"               \"0\"               \"0\"               \"0\"              \n",
            " [33] \"0\"               \"0\"               \"0\"               \"0\"              \n",
            " [37] \"0\"               \"1\"               \"0\"               \"1\"              \n",
            " [41] \"1\"               \"1\"               \"0\"               \"0\"              \n",
            " [45] \"0\"               \"0\"               \"0\"               \"0\"              \n",
            " [49] \"0\"               \"1\"               \"0\"               \"0\"              \n",
            " [53] \"0\"               \"1\"               \"0\"               \"0\"              \n",
            " [57] \"0\"               \"1\"               \"0\"               \"1\"              \n",
            " [61] \"0\"               \"0\"               \"1\"               \"0\"              \n",
            " [65] \"0\"               \"1\"               \"0\"               \"0\"              \n",
            " [69] \"0\"               \"0\"               \"1\"               \"0\"              \n",
            " [73] \"0\"               \"0\"               \"1\"               \"1\"              \n",
            " [77] \"1\"               \"1\"               \"0\"               \"0\"              \n",
            " [81] \"0\"               \"0\"               \"0\"               \"1\"              \n",
            " [85] \"0\"               \"0\"               \"1\"               \"1\"              \n",
            " [89] \"1\"               \"0\"               \"0\"               \"0\"              \n",
            " [93] \"1\"               \"1\"               \"0\"               \"0\"              \n",
            " [97] \"0\"               \"1\"               \"0\"               \"0\"              \n",
            "[101] \"1\"              \n"
          ]
        }
      ]
    },
    {
      "cell_type": "code",
      "source": [
        "%%R\n",
        "## b\n",
        "pdf=dbinom(j,1,p)\n",
        "pdf"
      ],
      "metadata": {
        "colab": {
          "base_uri": "https://localhost:8080/"
        },
        "id": "ZRcJHsYSCR-e",
        "outputId": "2435f0cd-afc6-4d9c-9035-406d89bacdc2"
      },
      "execution_count": 9,
      "outputs": [
        {
          "output_type": "stream",
          "name": "stdout",
          "text": [
            "[1] 0.7\n"
          ]
        }
      ]
    },
    {
      "cell_type": "markdown",
      "source": [
        "## Example\n",
        "Let the random variable X be distributed with Bernoulli model Be(p=0.9). \n",
        "\n",
        "Find P(X<=2)."
      ],
      "metadata": {
        "id": "Lv8gI7WxEeXb"
      }
    },
    {
      "cell_type": "code",
      "source": [
        "%%R\n",
        "p=0.9; j = 2\n",
        "cdf=pbinom(j,1,p)\n",
        "cdf"
      ],
      "metadata": {
        "colab": {
          "base_uri": "https://localhost:8080/"
        },
        "id": "mvJQFln2CSBL",
        "outputId": "a3d7d940-868d-48d5-daa8-ef503c07bf4b"
      },
      "execution_count": 10,
      "outputs": [
        {
          "output_type": "stream",
          "name": "stdout",
          "text": [
            "[1] 1\n"
          ]
        }
      ]
    },
    {
      "cell_type": "markdown",
      "source": [
        "# Discreet Probability Model - Bimomial\n",
        "\n",
        "1. Data Simulation - rbinom(s,n,p)\n",
        "*  s=sample size\n",
        "*  n=number of binary trials\n",
        "*  p=probability of getting one\n",
        "\n",
        "\n",
        "2. Probability Mass Function (**pmf**) - dbinom(j,n,p)\n",
        "*  j=is the possible outcome\n",
        "*  n=number of binary trials\n",
        "*  p=probability of getting one\n",
        "\n",
        "2. Cumulative Distribution Function (**cdf**) - cdf=P(x<=j)=pbinom(j,n,p)\n",
        "*  j=is the value of random variable \n",
        "*  n=number of binary trials\n",
        "*  p=probability of getting one\n"
      ],
      "metadata": {
        "id": "AGfPgzGyE03q"
      }
    },
    {
      "cell_type": "markdown",
      "source": [
        "Let X be distributed with Bin(n=5,p=0.3).\n",
        "\n",
        "a) Simulate 20 samples from this model.\n",
        "\n",
        "b) Find P(X=4)."
      ],
      "metadata": {
        "id": "e3xkSLk2FRoV"
      }
    },
    {
      "cell_type": "code",
      "source": [
        "%%R\n",
        "s=20;n=5;p=0.3;j=4\n",
        "\n",
        "# a\n",
        "print(rbinom(s,n,p))\n",
        "\n",
        "# b\n",
        "print(dbinom(j,n,p))\n",
        "\n"
      ],
      "metadata": {
        "colab": {
          "base_uri": "https://localhost:8080/"
        },
        "id": "tLlhUiJxCSDz",
        "outputId": "47908983-fdeb-475c-94e0-f17271100ec1"
      },
      "execution_count": 13,
      "outputs": [
        {
          "output_type": "stream",
          "name": "stdout",
          "text": [
            " [1] 2 2 3 2 1 1 2 1 3 0 2 1 0 2 2 0 2 2 1 3\n",
            "[1] 0.02835\n"
          ]
        }
      ]
    },
    {
      "cell_type": "markdown",
      "source": [
        "# Discreet Probability Model - Multinomial\n",
        "\n",
        "1. Data Simulation - rmultinom(s,n,(p1...pk))\n",
        "*  s=sample size\n",
        "*  n=number of binary trials\n",
        "*  pi=the probability of binary class where k is the number of class\n",
        "\n",
        "\n",
        "2. Probability Mass Function (**pmf**) - dmultinom(j,n,(p1...pk))\n",
        "*  j=If j=(j1,...,jk) is the value of the multinomial random variable\n",
        "*  n=number of binary trials\n",
        "*  p=probability of getting one\n"
      ],
      "metadata": {
        "id": "ClXbbrLRGcUu"
      }
    },
    {
      "cell_type": "markdown",
      "source": [
        "## Example\n",
        "12 products are tested in a QC department. \n",
        "\n",
        "Assume that the classification of individual products are independent events. \n",
        "\n",
        "Also, an excellent product is selected with a probability of 40%, a good product with a probability of 20%, and fair and poor products with a probability of 10% and 30% respectively.\n",
        "\n",
        "a) What is the chance of having 8 excellent, 1 good, 1 fair and 2 poor products? \n",
        "\n",
        "b) How many products do you expect to be excellent?"
      ],
      "metadata": {
        "id": "iLIUvAyvHi_N"
      }
    },
    {
      "cell_type": "code",
      "source": [
        "%%R\n",
        "\n",
        "# a\n",
        "p=c(0.4,0.2,0.1,0.3)\n",
        "n=12\n",
        "j=c(8,1,1,2)\n",
        "\n",
        "pmf=dmultinom(j,n,p)\n",
        "print(c(pmf))\n",
        "\n",
        "# b\n",
        "E1=n*p[1]\n",
        "print(c(E1))"
      ],
      "metadata": {
        "colab": {
          "base_uri": "https://localhost:8080/"
        },
        "id": "p6ZSB4POCSGn",
        "outputId": "9999507b-0ab8-41c9-8960-be0830c7fd30"
      },
      "execution_count": 19,
      "outputs": [
        {
          "output_type": "stream",
          "name": "stdout",
          "text": [
            "[1] 0.007007109\n",
            "[1] 4.8\n"
          ]
        }
      ]
    },
    {
      "cell_type": "markdown",
      "source": [
        "# Discreet Probability Model - Poission\n",
        "\n",
        "1. Data Simulation - rpois(s,lambda)\n",
        "*  s=sample size\n",
        "*  lambda=the rate (mean) of the variable\n",
        "\n",
        "\n",
        "2. Probability Mass Function (**pmf**) - dpois(j, lambda)\n",
        "*  j=j is the possible outcome\n",
        "*  lambda=the rate (mean) of the variable\n",
        "\n",
        "2. Probability Mass Function (**cdf**) - ppois(j, lambda)\n",
        "*  j=j is the possible outcome\n",
        "*  lambda=the rate (mean) of the variable\n"
      ],
      "metadata": {
        "id": "fm1hrko5JDHP"
      }
    },
    {
      "cell_type": "code",
      "source": [
        "%%R\n",
        "lam=3\n",
        "j=0\n",
        "\n",
        "# a\n",
        "lam=6\n",
        "j=2\n",
        "1-ppois(1,lam)\n"
      ],
      "metadata": {
        "colab": {
          "base_uri": "https://localhost:8080/"
        },
        "id": "P0cWnU3XCSJO",
        "outputId": "27c806b6-028d-4042-c53d-cb8d40e46b9b"
      },
      "execution_count": 21,
      "outputs": [
        {
          "output_type": "stream",
          "name": "stdout",
          "text": [
            "[1] 0.9826487\n"
          ]
        }
      ]
    },
    {
      "cell_type": "markdown",
      "source": [
        "## Example\n",
        "\n",
        "Let X be the number of typos created by a particular typing machine. \n",
        "\n",
        "If the typos rate is 2 per 1000 pages, what is the probability of generating at least 3 typos per 2000 pages?"
      ],
      "metadata": {
        "id": "zooZbmdUKhJP"
      }
    },
    {
      "cell_type": "code",
      "source": [
        "%%R\n",
        "lam=4\n",
        "1-ppois(2,lam)"
      ],
      "metadata": {
        "colab": {
          "base_uri": "https://localhost:8080/"
        },
        "id": "nXooSXDACSME",
        "outputId": "4e53571d-3197-4e75-daa6-539d15ade7eb"
      },
      "execution_count": 22,
      "outputs": [
        {
          "output_type": "stream",
          "name": "stdout",
          "text": [
            "[1] 0.7618967\n"
          ]
        }
      ]
    },
    {
      "cell_type": "code",
      "source": [
        ""
      ],
      "metadata": {
        "id": "MWVOmi5zCSOu"
      },
      "execution_count": null,
      "outputs": []
    },
    {
      "cell_type": "code",
      "source": [
        ""
      ],
      "metadata": {
        "id": "8HTnI0RBCSRW"
      },
      "execution_count": null,
      "outputs": []
    },
    {
      "cell_type": "code",
      "source": [
        ""
      ],
      "metadata": {
        "id": "k79Qjzp-CSUL"
      },
      "execution_count": null,
      "outputs": []
    },
    {
      "cell_type": "code",
      "source": [
        ""
      ],
      "metadata": {
        "id": "uqLRKpa1CSWx"
      },
      "execution_count": null,
      "outputs": []
    },
    {
      "cell_type": "code",
      "source": [
        ""
      ],
      "metadata": {
        "id": "d5vBr5YNCSZe"
      },
      "execution_count": null,
      "outputs": []
    },
    {
      "cell_type": "code",
      "source": [
        ""
      ],
      "metadata": {
        "id": "JdNRqvw6CScO"
      },
      "execution_count": null,
      "outputs": []
    },
    {
      "cell_type": "code",
      "source": [
        ""
      ],
      "metadata": {
        "id": "SCz3ba1ZCSfA"
      },
      "execution_count": null,
      "outputs": []
    },
    {
      "cell_type": "code",
      "source": [
        ""
      ],
      "metadata": {
        "id": "Gq4DOUerCSh0"
      },
      "execution_count": null,
      "outputs": []
    },
    {
      "cell_type": "code",
      "source": [
        ""
      ],
      "metadata": {
        "id": "I72_gkw-CSk2"
      },
      "execution_count": null,
      "outputs": []
    },
    {
      "cell_type": "code",
      "source": [
        ""
      ],
      "metadata": {
        "id": "ddqvIq3zCSnb"
      },
      "execution_count": null,
      "outputs": []
    },
    {
      "cell_type": "code",
      "source": [
        ""
      ],
      "metadata": {
        "id": "_tvA0-SXCSqV"
      },
      "execution_count": null,
      "outputs": []
    },
    {
      "cell_type": "code",
      "source": [
        ""
      ],
      "metadata": {
        "id": "7zXqwpEtCStN"
      },
      "execution_count": null,
      "outputs": []
    },
    {
      "cell_type": "code",
      "source": [
        ""
      ],
      "metadata": {
        "id": "e9pQhkVCCSwD"
      },
      "execution_count": null,
      "outputs": []
    },
    {
      "cell_type": "code",
      "source": [
        ""
      ],
      "metadata": {
        "id": "xUbZDcLYCSyk"
      },
      "execution_count": null,
      "outputs": []
    },
    {
      "cell_type": "code",
      "source": [
        ""
      ],
      "metadata": {
        "id": "483Au53nCS1f"
      },
      "execution_count": null,
      "outputs": []
    }
  ]
}